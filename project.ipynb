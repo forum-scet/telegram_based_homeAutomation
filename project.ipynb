{
 "cells": [
  {
   "cell_type": "code",
   "execution_count": null,
   "id": "5ff4514e",
   "metadata": {},
   "outputs": [],
   "source": [
    "import time\n",
    "import RPi.GPIO as GPIO\n",
    "import telepot\n",
    "from telepot.loop import MessageLoop"
   ]
  },
  {
   "cell_type": "code",
   "execution_count": 2,
   "id": "bdd11e25",
   "metadata": {
    "scrolled": true
   },
   "outputs": [
    {
     "name": "stdout",
     "output_type": "stream",
     "text": [
      "Collecting package metadata (current_repodata.json): ...working... done\n",
      "Solving environment: ...working... failed with initial frozen solve. Retrying with flexible solve.\n",
      "Collecting package metadata (repodata.json): ...working... done\n",
      "Solving environment: ...working... failed with initial frozen solve. Retrying with flexible solve.\n",
      "\n",
      "Note: you may need to restart the kernel to use updated packages.\n"
     ]
    },
    {
     "name": "stderr",
     "output_type": "stream",
     "text": [
      "\n",
      "PackagesNotFoundError: The following packages are not available from current channels:\n",
      "\n",
      "  - rpi.gpio\n",
      "\n",
      "Current channels:\n",
      "\n",
      "  - https://repo.anaconda.com/pkgs/main/win-64\n",
      "  - https://repo.anaconda.com/pkgs/main/noarch\n",
      "  - https://repo.anaconda.com/pkgs/r/win-64\n",
      "  - https://repo.anaconda.com/pkgs/r/noarch\n",
      "  - https://repo.anaconda.com/pkgs/msys2/win-64\n",
      "  - https://repo.anaconda.com/pkgs/msys2/noarch\n",
      "\n",
      "To search for alternate channels that may provide the conda package you're\n",
      "looking for, navigate to\n",
      "\n",
      "    https://anaconda.org\n",
      "\n",
      "and use the search bar at the top of the page.\n",
      "\n",
      "\n"
     ]
    }
   ],
   "source": [
    "conda install RPi.GPIO"
   ]
  },
  {
   "cell_type": "code",
   "execution_count": null,
   "id": "368ee7c9",
   "metadata": {},
   "outputs": [],
   "source": [
    "import time\n",
    "import RPi.GPIO as GPIO\n",
    "import telepot\n",
    "from telepot.loop import MessageLoop\n",
    "\n",
    "bulb = 26\n",
    "GPIO.setmode(GPIO.BCM)\n",
    "GPIO.setwarnings(False)\n",
    "\n",
    "GPIO.setup(bulb, GPIO.OUT)\n",
    "GPIO.output(bulb, 0) \n",
    "\n",
    "def action(msg):\n",
    "    chat_id = msg['chat']['id']\n",
    "    command = msg['text']\n",
    "\n",
    "    print 'Received: %s' % command\n",
    "\n",
    "    if 'on' in command:\n",
    "        message = \"Turned on the light\"\n",
    "        GPIO.output(bulb, 1)\n",
    "        telegram_bot.sendMessage (chat_id, message)\n",
    "    \n",
    "    if 'off' in command:\n",
    "        message = \"Turned off the light\"\n",
    "        GPIO.output(bulb, 0)\n",
    "        telegram_bot.sendMessage (chat_id, message)\n",
    "    \n",
    "\n",
    "telegram_bot = telepot.Bot('668923885:AAG-XHddTYdSCta8vvoiaCQPCk8toSLXpb4')\n",
    "print (telegram_bot.getMe())\n",
    "\n",
    "MessageLoop(telegram_bot, action).run_as_thread()\n",
    "print 'Send the command to turn on or off the light...'\n",
    "\n",
    "while 1:\n",
    "    time.sleep(10)"
   ]
  },
  {
   "cell_type": "code",
   "execution_count": null,
   "id": "c98e9c91",
   "metadata": {},
   "outputs": [],
   "source": []
  },
  {
   "cell_type": "code",
   "execution_count": null,
   "id": "aa99be73",
   "metadata": {},
   "outputs": [],
   "source": []
  },
  {
   "cell_type": "code",
   "execution_count": null,
   "id": "d3f5bf10",
   "metadata": {},
   "outputs": [],
   "source": []
  },
  {
   "cell_type": "code",
   "execution_count": null,
   "id": "0dab19fa",
   "metadata": {},
   "outputs": [],
   "source": []
  }
 ],
 "metadata": {
  "kernelspec": {
   "display_name": "Python 3 (ipykernel)",
   "language": "python",
   "name": "python3"
  },
  "language_info": {
   "codemirror_mode": {
    "name": "ipython",
    "version": 3
   },
   "file_extension": ".py",
   "mimetype": "text/x-python",
   "name": "python",
   "nbconvert_exporter": "python",
   "pygments_lexer": "ipython3",
   "version": "3.9.12"
  }
 },
 "nbformat": 4,
 "nbformat_minor": 5
}
